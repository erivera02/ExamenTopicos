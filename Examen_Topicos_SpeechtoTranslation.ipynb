{
 "cells": [
  {
   "cell_type": "markdown",
   "metadata": {},
   "source": [
    "# 1. Authenticate"
   ]
  },
  {
   "cell_type": "code",
   "execution_count": null,
   "metadata": {},
   "outputs": [],
   "source": [
    "from ibm_watson import SpeechToTextV1, LanguageTranslatorV3\n",
    "from ibm_cloud_sdk_core.authenticators import IAMAuthenticator"
   ]
  },
  {
   "cell_type": "code",
   "execution_count": null,
   "metadata": {},
   "outputs": [],
   "source": [
    "ltapikey = 'pER6gG9Immjh29hbbn4Njz2VLabUiNQoLNmNVu4eUoxp'\n",
    "lturl = 'https://api.us-south.language-translator.watson.cloud.ibm.com/instances/88412905-5125-461a-b1c1-4d4bb32fda8a'\n",
    "sttapikey = 'FE3dsk01kU3HI_SzqTapdAAWMVFuuL1hqvtroGQtBc81'\n",
    "stturl = 'https://api.us-south.text-to-speech.watson.cloud.ibm.com/instances/b996229c-8870-4a0d-8196-a53c55bc7244'"
   ]
  },
  {
   "cell_type": "code",
   "execution_count": null,
   "metadata": {},
   "outputs": [],
   "source": [
    "ltauthenticator = IAMAuthenticator(ltapikey)\n",
    "lt = LanguageTranslatorV3(version='2018-05-01', authenticator=ltauthenticator)\n",
    "lt.set_service_url(lturl)"
   ]
  },
  {
   "cell_type": "code",
   "execution_count": null,
   "metadata": {},
   "outputs": [],
   "source": [
    "sttauthenticator = IAMAuthenticator(sttapikey)\n",
    "stt = SpeechToTextV1(authenticator=sttauthenticator)\n",
    "stt.set_service_url(stturl)"
   ]
  },
  {
   "cell_type": "markdown",
   "metadata": {},
   "source": [
    "# 2. Speech to Text"
   ]
  },
  {
   "cell_type": "code",
   "execution_count": null,
   "metadata": {},
   "outputs": [],
   "source": [
    "with open('speech.mp3', 'rb') as f:\n",
    "    res = stt.recognize(audio=f, content_type='audio/mp3', model='en-AU_NarrowbandModel', continuous=True).get_result()"
   ]
  },
  {
   "cell_type": "code",
   "execution_count": null,
   "metadata": {},
   "outputs": [],
   "source": [
    "voicetext = res['results'][0]['alternatives'][0]['transcript']\n",
    "voicetext"
   ]
  },
  {
   "cell_type": "markdown",
   "metadata": {},
   "source": [
    "# 3. Text Translation"
   ]
  },
  {
   "cell_type": "code",
   "execution_count": null,
   "metadata": {},
   "outputs": [],
   "source": [
    "french = 'en-fr'\n",
    "chinese = 'en-zh'\n",
    "hindi = 'en-hi'"
   ]
  },
  {
   "cell_type": "code",
   "execution_count": null,
   "metadata": {},
   "outputs": [],
   "source": [
    "translation = lt.translate(text=voicetext, model_id=french).get_result()\n",
    "translatedtext = translation['translations'][0]['translation']\n",
    "translatedtext"
   ]
  },
  {
   "cell_type": "markdown",
   "metadata": {},
   "source": [
    "## 4. Output Translation"
   ]
  },
  {
   "cell_type": "code",
   "execution_count": null,
   "metadata": {},
   "outputs": [],
   "source": [
    "with open('result.txt', 'w') as f:\n",
    "    f.write(translatedtext)"
   ]
  }
 ],
 "metadata": {
  "kernelspec": {
   "display_name": "Python 3 (ipykernel)",
   "language": "python",
   "name": "python3"
  },
  "language_info": {
   "codemirror_mode": {
    "name": "ipython",
    "version": 3
   },
   "file_extension": ".py",
   "mimetype": "text/x-python",
   "name": "python",
   "nbconvert_exporter": "python",
   "pygments_lexer": "ipython3",
   "version": "3.9.6"
  }
 },
 "nbformat": 4,
 "nbformat_minor": 2
}
